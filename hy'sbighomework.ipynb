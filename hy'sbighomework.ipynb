{
  "nbformat": 4,
  "nbformat_minor": 0,
  "metadata": {
    "colab": {
      "provenance": [],
      "authorship_tag": "ABX9TyPBVfb79kojI3BG5UqRqlEL",
      "include_colab_link": true
    },
    "kernelspec": {
      "name": "python3",
      "display_name": "Python 3"
    },
    "language_info": {
      "name": "python"
    }
  },
  "cells": [
    {
      "cell_type": "markdown",
      "metadata": {
        "id": "view-in-github",
        "colab_type": "text"
      },
      "source": [
        "<a href=\"https://colab.research.google.com/github/franciumgod/hy-s-bighomework-chong/blob/main/hy'sbighomework.ipynb\" target=\"_parent\"><img src=\"https://colab.research.google.com/assets/colab-badge.svg\" alt=\"Open In Colab\"/></a>"
      ]
    },
    {
      "cell_type": "code",
      "execution_count": 3,
      "metadata": {
        "colab": {
          "base_uri": "https://localhost:8080/"
        },
        "id": "EAfQlHlJTBgj",
        "outputId": "0e8628fd-ac88-4396-8164-91051467d852"
      },
      "outputs": [
        {
          "output_type": "stream",
          "name": "stdout",
          "text": [
            "/content/retina-unet\n"
          ]
        }
      ],
      "source": [
        "cd /content/retina-unet/\n"
      ]
    },
    {
      "cell_type": "code",
      "source": [
        "rm -r test/"
      ],
      "metadata": {
        "id": "u2cwWJU2y997"
      },
      "execution_count": 21,
      "outputs": []
    },
    {
      "cell_type": "code",
      "source": [
        "!pip install pyunpack\n",
        "!pip install patool\n"
      ],
      "metadata": {
        "colab": {
          "base_uri": "https://localhost:8080/"
        },
        "id": "OZE1KKv8-h1V",
        "outputId": "3adeb8c6-1dc1-409c-8d0c-f06eb7172d1b"
      },
      "execution_count": 8,
      "outputs": [
        {
          "output_type": "stream",
          "name": "stdout",
          "text": [
            "Collecting pyunpack\n",
            "  Downloading pyunpack-0.3-py2.py3-none-any.whl (4.1 kB)\n",
            "Collecting easyprocess (from pyunpack)\n",
            "  Downloading EasyProcess-1.1-py3-none-any.whl (8.7 kB)\n",
            "Collecting entrypoint2 (from pyunpack)\n",
            "  Downloading entrypoint2-1.1-py2.py3-none-any.whl (9.9 kB)\n",
            "Installing collected packages: entrypoint2, easyprocess, pyunpack\n",
            "Successfully installed easyprocess-1.1 entrypoint2-1.1 pyunpack-0.3\n",
            "Collecting patool\n",
            "  Downloading patool-2.2.0-py2.py3-none-any.whl (96 kB)\n",
            "\u001b[2K     \u001b[90m━━━━━━━━━━━━━━━━━━━━━━━━━━━━━━━━━━━━━━━━\u001b[0m \u001b[32m96.0/96.0 kB\u001b[0m \u001b[31m3.0 MB/s\u001b[0m eta \u001b[36m0:00:00\u001b[0m\n",
            "\u001b[?25hInstalling collected packages: patool\n",
            "Successfully installed patool-2.2.0\n"
          ]
        }
      ]
    },
    {
      "cell_type": "code",
      "source": [
        "from pyunpack import Archive\n",
        "\n",
        "Archive('/content/retina-unet/DRIVE.rar').extractall('/content/retina-unet')\n"
      ],
      "metadata": {
        "id": "5voH2sdX-oav"
      },
      "execution_count": 9,
      "outputs": []
    },
    {
      "cell_type": "code",
      "source": [
        "!git clone https://gitee.com/zongfang/retina-unet.git"
      ],
      "metadata": {
        "colab": {
          "base_uri": "https://localhost:8080/"
        },
        "id": "rBJyHaoCUw0P",
        "outputId": "c29bd33d-ae7b-4cd5-e9d7-19a6e407a9ec"
      },
      "execution_count": 3,
      "outputs": [
        {
          "output_type": "stream",
          "name": "stdout",
          "text": [
            "Cloning into 'retina-unet'...\n",
            "remote: Enumerating objects: 171, done.\u001b[K\n",
            "remote: Total 171 (delta 0), reused 0 (delta 0), pack-reused 171\u001b[K\n",
            "Receiving objects: 100% (171/171), 60.18 MiB | 744.00 KiB/s, done.\n",
            "Resolving deltas: 100% (67/67), done.\n"
          ]
        }
      ]
    },
    {
      "cell_type": "code",
      "source": [
        "%run prepare_datasets_DRIVE.py"
      ],
      "metadata": {
        "colab": {
          "base_uri": "https://localhost:8080/"
        },
        "id": "1Y0oGQnh8BFL",
        "outputId": "6277ae39-293a-4c9f-c165-fc8d024baf8b"
      },
      "execution_count": 4,
      "outputs": [
        {
          "output_type": "stream",
          "name": "stdout",
          "text": [
            "original image: 21_training.tif\n",
            "ground truth name: 21_manual1.gif\n",
            "border masks name: 21_training_mask.gif\n",
            "original image: 37_training.tif\n",
            "ground truth name: 37_manual1.gif\n",
            "border masks name: 37_training_mask.gif\n",
            "original image: 40_training.tif\n",
            "ground truth name: 40_manual1.gif\n",
            "border masks name: 40_training_mask.gif\n",
            "original image: 35_training.tif\n",
            "ground truth name: 35_manual1.gif\n",
            "border masks name: 35_training_mask.gif\n",
            "original image: 24_training.tif\n",
            "ground truth name: 24_manual1.gif\n",
            "border masks name: 24_training_mask.gif\n",
            "original image: 33_training.tif\n",
            "ground truth name: 33_manual1.gif\n",
            "border masks name: 33_training_mask.gif\n",
            "original image: 38_training.tif\n",
            "ground truth name: 38_manual1.gif\n",
            "border masks name: 38_training_mask.gif\n",
            "original image: 34_training.tif\n",
            "ground truth name: 34_manual1.gif\n",
            "border masks name: 34_training_mask.gif\n",
            "original image: 31_training.tif\n",
            "ground truth name: 31_manual1.gif\n",
            "border masks name: 31_training_mask.gif\n",
            "original image: 27_training.tif\n",
            "ground truth name: 27_manual1.gif\n",
            "border masks name: 27_training_mask.gif\n",
            "original image: 30_training.tif\n",
            "ground truth name: 30_manual1.gif\n",
            "border masks name: 30_training_mask.gif\n",
            "original image: 28_training.tif\n",
            "ground truth name: 28_manual1.gif\n",
            "border masks name: 28_training_mask.gif\n",
            "original image: 39_training.tif\n",
            "ground truth name: 39_manual1.gif\n",
            "border masks name: 39_training_mask.gif\n",
            "original image: 36_training.tif\n",
            "ground truth name: 36_manual1.gif\n",
            "border masks name: 36_training_mask.gif\n",
            "original image: 26_training.tif\n",
            "ground truth name: 26_manual1.gif\n",
            "border masks name: 26_training_mask.gif\n",
            "original image: 25_training.tif\n",
            "ground truth name: 25_manual1.gif\n",
            "border masks name: 25_training_mask.gif\n",
            "original image: 29_training.tif\n",
            "ground truth name: 29_manual1.gif\n",
            "border masks name: 29_training_mask.gif\n",
            "original image: 22_training.tif\n",
            "ground truth name: 22_manual1.gif\n",
            "border masks name: 22_training_mask.gif\n",
            "original image: 23_training.tif\n",
            "ground truth name: 23_manual1.gif\n",
            "border masks name: 23_training_mask.gif\n",
            "original image: 32_training.tif\n",
            "ground truth name: 32_manual1.gif\n",
            "border masks name: 32_training_mask.gif\n",
            "imgs max: 255.0\n",
            "imgs min: 0.0\n",
            "ground truth and border masks are correctly withih pixel value range 0-255 (black-white)\n",
            "saving train datasets\n",
            "original image: 07_test.tif\n",
            "ground truth name: 07_manual1.gif\n",
            "border masks name: 07_test_mask.gif\n",
            "original image: 13_test.tif\n",
            "ground truth name: 13_manual1.gif\n",
            "border masks name: 13_test_mask.gif\n",
            "original image: 10_test.tif\n",
            "ground truth name: 10_manual1.gif\n",
            "border masks name: 10_test_mask.gif\n",
            "original image: 12_test.tif\n",
            "ground truth name: 12_manual1.gif\n",
            "border masks name: 12_test_mask.gif\n",
            "original image: 16_test.tif\n",
            "ground truth name: 16_manual1.gif\n",
            "border masks name: 16_test_mask.gif\n",
            "original image: 02_test.tif\n",
            "ground truth name: 02_manual1.gif\n",
            "border masks name: 02_test_mask.gif\n",
            "original image: 03_test.tif\n",
            "ground truth name: 03_manual1.gif\n",
            "border masks name: 03_test_mask.gif\n",
            "original image: 04_test.tif\n",
            "ground truth name: 04_manual1.gif\n",
            "border masks name: 04_test_mask.gif\n",
            "original image: 17_test.tif\n",
            "ground truth name: 17_manual1.gif\n",
            "border masks name: 17_test_mask.gif\n",
            "original image: 05_test.tif\n",
            "ground truth name: 05_manual1.gif\n",
            "border masks name: 05_test_mask.gif\n",
            "original image: 18_test.tif\n",
            "ground truth name: 18_manual1.gif\n",
            "border masks name: 18_test_mask.gif\n",
            "original image: 15_test.tif\n",
            "ground truth name: 15_manual1.gif\n",
            "border masks name: 15_test_mask.gif\n",
            "original image: 08_test.tif\n",
            "ground truth name: 08_manual1.gif\n",
            "border masks name: 08_test_mask.gif\n",
            "original image: 19_test.tif\n",
            "ground truth name: 19_manual1.gif\n",
            "border masks name: 19_test_mask.gif\n",
            "original image: 01_test.tif\n",
            "ground truth name: 01_manual1.gif\n",
            "border masks name: 01_test_mask.gif\n",
            "original image: 11_test.tif\n",
            "ground truth name: 11_manual1.gif\n",
            "border masks name: 11_test_mask.gif\n",
            "original image: 06_test.tif\n",
            "ground truth name: 06_manual1.gif\n",
            "border masks name: 06_test_mask.gif\n",
            "original image: 14_test.tif\n",
            "ground truth name: 14_manual1.gif\n",
            "border masks name: 14_test_mask.gif\n",
            "original image: 20_test.tif\n",
            "ground truth name: 20_manual1.gif\n",
            "border masks name: 20_test_mask.gif\n",
            "original image: 09_test.tif\n",
            "ground truth name: 09_manual1.gif\n",
            "border masks name: 09_test_mask.gif\n",
            "imgs max: 255.0\n",
            "imgs min: 0.0\n",
            "ground truth and border masks are correctly withih pixel value range 0-255 (black-white)\n",
            "saving test datasets\n"
          ]
        }
      ]
    },
    {
      "cell_type": "code",
      "source": [
        "# !git clone https://github.com/bigmb/Unet-Segmentation-Pytorch-Nest-of-Unets.git"
      ],
      "metadata": {
        "id": "52SXNpvgV551"
      },
      "execution_count": 11,
      "outputs": []
    },
    {
      "cell_type": "code",
      "source": [
        "# !git config --global user.name userName\n",
        "# !git config --global user.email userEmail"
      ],
      "metadata": {
        "id": "YREJu8QGXJP2"
      },
      "execution_count": 12,
      "outputs": []
    },
    {
      "cell_type": "code",
      "source": [
        "# mv /content/retinal-dataset/DRIVE /content/retina-unet/DRIVE"
      ],
      "metadata": {
        "id": "IR8rSeZaXMgX"
      },
      "execution_count": 24,
      "outputs": []
    },
    {
      "cell_type": "code",
      "source": [
        "# import keras\n",
        "# print(keras.__version__)\n",
        "!pip install keras==2.10.0\n",
        "\n",
        "!pip install tensorflow==2.10.1"
      ],
      "metadata": {
        "colab": {
          "base_uri": "https://localhost:8080/"
        },
        "id": "emW8evzDCsnq",
        "outputId": "5a9fdcce-6ce0-41c3-9c52-cf80227c8dd6"
      },
      "execution_count": 1,
      "outputs": [
        {
          "output_type": "stream",
          "name": "stdout",
          "text": [
            "Requirement already satisfied: keras==2.10.0 in /usr/local/lib/python3.10/dist-packages (2.10.0)\n",
            "Requirement already satisfied: tensorflow==2.10.1 in /usr/local/lib/python3.10/dist-packages (2.10.1)\n",
            "Requirement already satisfied: absl-py>=1.0.0 in /usr/local/lib/python3.10/dist-packages (from tensorflow==2.10.1) (1.4.0)\n",
            "Requirement already satisfied: astunparse>=1.6.0 in /usr/local/lib/python3.10/dist-packages (from tensorflow==2.10.1) (1.6.3)\n",
            "Requirement already satisfied: flatbuffers>=2.0 in /usr/local/lib/python3.10/dist-packages (from tensorflow==2.10.1) (24.3.25)\n",
            "Requirement already satisfied: gast<=0.4.0,>=0.2.1 in /usr/local/lib/python3.10/dist-packages (from tensorflow==2.10.1) (0.4.0)\n",
            "Requirement already satisfied: google-pasta>=0.1.1 in /usr/local/lib/python3.10/dist-packages (from tensorflow==2.10.1) (0.2.0)\n",
            "Requirement already satisfied: grpcio<2.0,>=1.24.3 in /usr/local/lib/python3.10/dist-packages (from tensorflow==2.10.1) (1.63.0)\n",
            "Requirement already satisfied: h5py>=2.9.0 in /usr/local/lib/python3.10/dist-packages (from tensorflow==2.10.1) (3.9.0)\n",
            "Requirement already satisfied: keras<2.11,>=2.10.0 in /usr/local/lib/python3.10/dist-packages (from tensorflow==2.10.1) (2.10.0)\n",
            "Requirement already satisfied: keras-preprocessing>=1.1.1 in /usr/local/lib/python3.10/dist-packages (from tensorflow==2.10.1) (1.1.2)\n",
            "Requirement already satisfied: libclang>=13.0.0 in /usr/local/lib/python3.10/dist-packages (from tensorflow==2.10.1) (18.1.1)\n",
            "Requirement already satisfied: numpy>=1.20 in /usr/local/lib/python3.10/dist-packages (from tensorflow==2.10.1) (1.25.2)\n",
            "Requirement already satisfied: opt-einsum>=2.3.2 in /usr/local/lib/python3.10/dist-packages (from tensorflow==2.10.1) (3.3.0)\n",
            "Requirement already satisfied: packaging in /usr/local/lib/python3.10/dist-packages (from tensorflow==2.10.1) (24.0)\n",
            "Requirement already satisfied: protobuf<3.20,>=3.9.2 in /usr/local/lib/python3.10/dist-packages (from tensorflow==2.10.1) (3.19.6)\n",
            "Requirement already satisfied: setuptools in /usr/local/lib/python3.10/dist-packages (from tensorflow==2.10.1) (67.7.2)\n",
            "Requirement already satisfied: six>=1.12.0 in /usr/local/lib/python3.10/dist-packages (from tensorflow==2.10.1) (1.16.0)\n",
            "Requirement already satisfied: tensorboard<2.11,>=2.10 in /usr/local/lib/python3.10/dist-packages (from tensorflow==2.10.1) (2.10.1)\n",
            "Requirement already satisfied: tensorflow-io-gcs-filesystem>=0.23.1 in /usr/local/lib/python3.10/dist-packages (from tensorflow==2.10.1) (0.37.0)\n",
            "Requirement already satisfied: tensorflow-estimator<2.11,>=2.10.0 in /usr/local/lib/python3.10/dist-packages (from tensorflow==2.10.1) (2.10.0)\n",
            "Requirement already satisfied: termcolor>=1.1.0 in /usr/local/lib/python3.10/dist-packages (from tensorflow==2.10.1) (2.4.0)\n",
            "Requirement already satisfied: typing-extensions>=3.6.6 in /usr/local/lib/python3.10/dist-packages (from tensorflow==2.10.1) (4.11.0)\n",
            "Requirement already satisfied: wrapt>=1.11.0 in /usr/local/lib/python3.10/dist-packages (from tensorflow==2.10.1) (1.14.1)\n",
            "Requirement already satisfied: wheel<1.0,>=0.23.0 in /usr/local/lib/python3.10/dist-packages (from astunparse>=1.6.0->tensorflow==2.10.1) (0.43.0)\n",
            "Requirement already satisfied: google-auth<3,>=1.6.3 in /usr/local/lib/python3.10/dist-packages (from tensorboard<2.11,>=2.10->tensorflow==2.10.1) (2.27.0)\n",
            "Requirement already satisfied: google-auth-oauthlib<0.5,>=0.4.1 in /usr/local/lib/python3.10/dist-packages (from tensorboard<2.11,>=2.10->tensorflow==2.10.1) (0.4.6)\n",
            "Requirement already satisfied: markdown>=2.6.8 in /usr/local/lib/python3.10/dist-packages (from tensorboard<2.11,>=2.10->tensorflow==2.10.1) (3.6)\n",
            "Requirement already satisfied: requests<3,>=2.21.0 in /usr/local/lib/python3.10/dist-packages (from tensorboard<2.11,>=2.10->tensorflow==2.10.1) (2.31.0)\n",
            "Requirement already satisfied: tensorboard-data-server<0.7.0,>=0.6.0 in /usr/local/lib/python3.10/dist-packages (from tensorboard<2.11,>=2.10->tensorflow==2.10.1) (0.6.1)\n",
            "Requirement already satisfied: tensorboard-plugin-wit>=1.6.0 in /usr/local/lib/python3.10/dist-packages (from tensorboard<2.11,>=2.10->tensorflow==2.10.1) (1.8.1)\n",
            "Requirement already satisfied: werkzeug>=1.0.1 in /usr/local/lib/python3.10/dist-packages (from tensorboard<2.11,>=2.10->tensorflow==2.10.1) (3.0.2)\n",
            "Requirement already satisfied: cachetools<6.0,>=2.0.0 in /usr/local/lib/python3.10/dist-packages (from google-auth<3,>=1.6.3->tensorboard<2.11,>=2.10->tensorflow==2.10.1) (5.3.3)\n",
            "Requirement already satisfied: pyasn1-modules>=0.2.1 in /usr/local/lib/python3.10/dist-packages (from google-auth<3,>=1.6.3->tensorboard<2.11,>=2.10->tensorflow==2.10.1) (0.4.0)\n",
            "Requirement already satisfied: rsa<5,>=3.1.4 in /usr/local/lib/python3.10/dist-packages (from google-auth<3,>=1.6.3->tensorboard<2.11,>=2.10->tensorflow==2.10.1) (4.9)\n",
            "Requirement already satisfied: requests-oauthlib>=0.7.0 in /usr/local/lib/python3.10/dist-packages (from google-auth-oauthlib<0.5,>=0.4.1->tensorboard<2.11,>=2.10->tensorflow==2.10.1) (1.3.1)\n",
            "Requirement already satisfied: charset-normalizer<4,>=2 in /usr/local/lib/python3.10/dist-packages (from requests<3,>=2.21.0->tensorboard<2.11,>=2.10->tensorflow==2.10.1) (3.3.2)\n",
            "Requirement already satisfied: idna<4,>=2.5 in /usr/local/lib/python3.10/dist-packages (from requests<3,>=2.21.0->tensorboard<2.11,>=2.10->tensorflow==2.10.1) (3.7)\n",
            "Requirement already satisfied: urllib3<3,>=1.21.1 in /usr/local/lib/python3.10/dist-packages (from requests<3,>=2.21.0->tensorboard<2.11,>=2.10->tensorflow==2.10.1) (2.0.7)\n",
            "Requirement already satisfied: certifi>=2017.4.17 in /usr/local/lib/python3.10/dist-packages (from requests<3,>=2.21.0->tensorboard<2.11,>=2.10->tensorflow==2.10.1) (2024.2.2)\n",
            "Requirement already satisfied: MarkupSafe>=2.1.1 in /usr/local/lib/python3.10/dist-packages (from werkzeug>=1.0.1->tensorboard<2.11,>=2.10->tensorflow==2.10.1) (2.1.5)\n",
            "Requirement already satisfied: pyasn1<0.7.0,>=0.4.6 in /usr/local/lib/python3.10/dist-packages (from pyasn1-modules>=0.2.1->google-auth<3,>=1.6.3->tensorboard<2.11,>=2.10->tensorflow==2.10.1) (0.6.0)\n",
            "Requirement already satisfied: oauthlib>=3.0.0 in /usr/local/lib/python3.10/dist-packages (from requests-oauthlib>=0.7.0->google-auth-oauthlib<0.5,>=0.4.1->tensorboard<2.11,>=2.10->tensorflow==2.10.1) (3.2.2)\n"
          ]
        }
      ]
    },
    {
      "cell_type": "code",
      "source": [
        "!pip install --upgrade keras\n"
      ],
      "metadata": {
        "colab": {
          "base_uri": "https://localhost:8080/",
          "height": 606
        },
        "id": "eBPPSfN5C-2f",
        "outputId": "a6416f20-d8c3-4cfb-b5ef-21d8f5da7504"
      },
      "execution_count": 26,
      "outputs": [
        {
          "output_type": "stream",
          "name": "stdout",
          "text": [
            "Requirement already satisfied: keras in /usr/local/lib/python3.10/dist-packages (2.15.0)\n",
            "Collecting keras\n",
            "  Downloading keras-3.3.3-py3-none-any.whl (1.1 MB)\n",
            "\u001b[2K     \u001b[90m━━━━━━━━━━━━━━━━━━━━━━━━━━━━━━━━━━━━━━━━\u001b[0m \u001b[32m1.1/1.1 MB\u001b[0m \u001b[31m15.5 MB/s\u001b[0m eta \u001b[36m0:00:00\u001b[0m\n",
            "\u001b[?25hRequirement already satisfied: absl-py in /usr/local/lib/python3.10/dist-packages (from keras) (1.4.0)\n",
            "Requirement already satisfied: numpy in /usr/local/lib/python3.10/dist-packages (from keras) (1.25.2)\n",
            "Requirement already satisfied: rich in /usr/local/lib/python3.10/dist-packages (from keras) (13.7.1)\n",
            "Collecting namex (from keras)\n",
            "  Downloading namex-0.0.8-py3-none-any.whl (5.8 kB)\n",
            "Requirement already satisfied: h5py in /usr/local/lib/python3.10/dist-packages (from keras) (3.9.0)\n",
            "Collecting optree (from keras)\n",
            "  Downloading optree-0.11.0-cp310-cp310-manylinux_2_17_x86_64.manylinux2014_x86_64.whl (311 kB)\n",
            "\u001b[2K     \u001b[90m━━━━━━━━━━━━━━━━━━━━━━━━━━━━━━━━━━━━━━━━\u001b[0m \u001b[32m311.2/311.2 kB\u001b[0m \u001b[31m28.1 MB/s\u001b[0m eta \u001b[36m0:00:00\u001b[0m\n",
            "\u001b[?25hRequirement already satisfied: ml-dtypes in /usr/local/lib/python3.10/dist-packages (from keras) (0.2.0)\n",
            "Requirement already satisfied: typing-extensions>=4.0.0 in /usr/local/lib/python3.10/dist-packages (from optree->keras) (4.11.0)\n",
            "Requirement already satisfied: markdown-it-py>=2.2.0 in /usr/local/lib/python3.10/dist-packages (from rich->keras) (3.0.0)\n",
            "Requirement already satisfied: pygments<3.0.0,>=2.13.0 in /usr/local/lib/python3.10/dist-packages (from rich->keras) (2.16.1)\n",
            "Requirement already satisfied: mdurl~=0.1 in /usr/local/lib/python3.10/dist-packages (from markdown-it-py>=2.2.0->rich->keras) (0.1.2)\n",
            "Installing collected packages: namex, optree, keras\n",
            "  Attempting uninstall: keras\n",
            "    Found existing installation: keras 2.15.0\n",
            "    Uninstalling keras-2.15.0:\n",
            "      Successfully uninstalled keras-2.15.0\n",
            "\u001b[31mERROR: pip's dependency resolver does not currently take into account all the packages that are installed. This behaviour is the source of the following dependency conflicts.\n",
            "tensorflow 2.15.0 requires keras<2.16,>=2.15.0, but you have keras 3.3.3 which is incompatible.\u001b[0m\u001b[31m\n",
            "\u001b[0mSuccessfully installed keras-3.3.3 namex-0.0.8 optree-0.11.0\n"
          ]
        },
        {
          "output_type": "display_data",
          "data": {
            "application/vnd.colab-display-data+json": {
              "pip_warning": {
                "packages": [
                  "keras"
                ]
              },
              "id": "ee1d3f6d4d834f65a87680f309360444"
            }
          },
          "metadata": {}
        }
      ]
    },
    {
      "cell_type": "code",
      "source": [
        "!python3 run_training.py"
      ],
      "metadata": {
        "colab": {
          "base_uri": "https://localhost:8080/"
        },
        "id": "QPhxa2Y-pZ-L",
        "outputId": "e159941c-5729-434b-932b-342ed3ee2c34"
      },
      "execution_count": 7,
      "outputs": [
        {
          "output_type": "stream",
          "name": "stdout",
          "text": [
            "/content/retina-unet/run_training.py:13: DeprecationWarning: This method will be removed in Python 3.12. Use 'parser.read_file()' instead.\n",
            "  config.readfp(open(r'./configuration.txt'))\n",
            "\n",
            "1. Create directory for the results (if not already existing)\n",
            "Dir already existing\n",
            "copy the configuration file in the results folder\n",
            "\n",
            "2. Run the training on GPU with nohup\n",
            "nohup: ignoring input and redirecting stderr to stdout\n",
            "Killed\n"
          ]
        }
      ]
    },
    {
      "cell_type": "code",
      "source": [
        "from keras.layers import Activation\n",
        "from keras.layers import core\n",
        "\n",
        "# 使用relu函数\n",
        "model.add(Activation(core))\n"
      ],
      "metadata": {
        "id": "p3eP-CCzDkx6"
      },
      "execution_count": null,
      "outputs": []
    },
    {
      "cell_type": "code",
      "source": [
        "%run run_testing.py\n",
        "\n"
      ],
      "metadata": {
        "colab": {
          "base_uri": "https://localhost:8080/"
        },
        "id": "tW8ilYsPC97G",
        "outputId": "529d66fb-b991-4439-a0f5-7742e0325b0d"
      },
      "execution_count": 8,
      "outputs": [
        {
          "output_type": "stream",
          "name": "stderr",
          "text": [
            "/content/retina-unet/run_testing.py:13: DeprecationWarning: This method will be removed in Python 3.12. Use 'parser.read_file()' instead.\n",
            "  config.readfp(open(r'./configuration.txt'))\n"
          ]
        },
        {
          "output_type": "stream",
          "name": "stdout",
          "text": [
            "\n",
            "1. Create directory for the results (if not already existing)\n",
            "\n",
            "2. Run the prediction on GPU (no nohup)\n"
          ]
        }
      ]
    },
    {
      "cell_type": "code",
      "source": [],
      "metadata": {
        "id": "-lv7lXN6Eah3"
      },
      "execution_count": null,
      "outputs": []
    }
  ]
}